{
 "cells": [
  {
   "cell_type": "code",
   "execution_count": 1,
   "metadata": {},
   "outputs": [],
   "source": [
    "# Simulating dynamics of Argon atoms\n",
    "# Starting with outlining general kinematics of particles"
   ]
  },
  {
   "cell_type": "markdown",
   "metadata": {},
   "source": [
    "Week 1:\n",
    "Play around with this system. Start by simulating the time evolution of a few particles in a periodic box, \n",
    "add the forces due to the Lennard-Jones potential. Check how the total energy of your system evolves over time.\n",
    "It's easier to start with a 2D system, but plan to switch to 3D at a later stage.\n",
    "Week 2:\n",
    "Derive the expression of the kinetic energy in dimensionless units\n",
    "Write a molecular dynamics code that uses dimensionless units and simulate a few atoms. \n",
    "Plot both kinetic, potential and total energy.\n",
    "Boundary condition, minimal image convention"
   ]
  },
  {
   "cell_type": "code",
   "execution_count": 5,
   "metadata": {},
   "outputs": [],
   "source": [
    "import numpy as np\n",
    "from astropy import constants as const\n",
    "from astropy import units as u"
   ]
  },
  {
   "cell_type": "code",
   "execution_count": 28,
   "metadata": {},
   "outputs": [],
   "source": [
    "# Lennard-Jones potential \n",
    "def LJP(r):\n",
    "    '''Lennard-Jones potential formula\n",
    "    Describes the potential of the system given a distance between two particles\n",
    "    in dimensionless units, no sigma or epsilon\n",
    "    function of magnitude distance r'''\n",
    "    return 4*(1/(r**12.) - 1/(r**6.))\n",
    "\n",
    "def dUdr(r):\n",
    "    ''' Derivative of LJP WRT r\n",
    "    in dimensionless units, no sigma or epsilon\n",
    "    function of magnitude distance r'''\n",
    "    return -48./(r**13.) + 24/(r**7.)\n",
    "\n",
    "def acceleration(derivU, x, r):\n",
    "    '''Force from LJP potential\n",
    "    derivU from function dUdr\n",
    "    x is vector (dimensionless)\n",
    "    r is magnitude (dimensionless)'''\n",
    "    nablaU = derivU*(x/r)\n",
    "    return -nablaU\n",
    "\n",
    "# New velocity\n",
    "def next_velocity(v_prev, a, t):\n",
    "    '''Finding the next velocity value\n",
    "    previous velocity v_prev\n",
    "    acceleration a at x_prev\n",
    "    timestep t\n",
    "    Dimensionless units'''\n",
    "    return v_prev + a*t\n",
    "\n",
    "# New position given a timestep\n",
    "def next_position(x_prev, v_prev, t):\n",
    "    '''The next position value\n",
    "    previous position x_prev\n",
    "    previous velocity v_prev\n",
    "    timestep t\n",
    "    Dimensionless units'''\n",
    "    return x_prev + v_prev*t"
   ]
  },
  {
   "cell_type": "code",
   "execution_count": 29,
   "metadata": {},
   "outputs": [
    {
     "data": {
      "text/plain": [
       "'Parameters given in dimensionless units of sigma\\n Perhaps convert between units later'"
      ]
     },
     "execution_count": 29,
     "metadata": {},
     "output_type": "execute_result"
    }
   ],
   "source": [
    "'''Parameters given in dimensionless units of sigma\n",
    " Perhaps convert between units later'''\n",
    "# Variables\n",
    "# Argon\n",
    "# epsilon = const.k_B * 119.8*u.K\n",
    "# sigma = 3.405*u.AA\n",
    "# mass = 39.948*u.u"
   ]
  },
  {
   "cell_type": "code",
   "execution_count": 51,
   "metadata": {},
   "outputs": [
    {
     "name": "stdout",
     "output_type": "stream",
     "text": [
      "[-2.3999952e-06 -0.0000000e+00 -0.0000000e+00]\n",
      "[-0. -0. -0.]\n"
     ]
    }
   ],
   "source": [
    "# The force at x is the negative gradient of the potential at x\n",
    "# The gradient of the potential is the derivative of the potential WRT r times x/r\n",
    "# where r is the magnitude of the distance and x is a vector\n",
    "\n",
    "# Initial conditions\n",
    "h = 0.05 # time step\n",
    "num_time = 10  # number of time steps\n",
    "num_part = 2\n",
    "\n",
    "x_i_init = np.array([10., 0., 0.]) # initial position vector of particle i\n",
    "v_i_init = np.array([1.0, 0., 0.]) # initial velocity vector of particle i\n",
    "\n",
    "x_j_init = np.array([0., 0., 0.])\n",
    "v_j_init = np.array([-1.0, 0., 0.])\n",
    "\n",
    "r_init = np.sqrt((x_i_init[0] - x_j_init[0])**2. + (x_i_init[1] - x_j_init[1])**2. + \n",
    "                   (x_i_init[2] - x_j_init[2])**2.) # magnitude\n",
    "\n",
    "acc_i = acceleration(dUdr(r_init), x_i_init, r_init) # acceleration of particle i\n",
    "acc_j = acceleration(dUdr(r_init), x_j_init, r_init) # acceleration of particle j\n",
    "print(acc_i)\n",
    "print(acc_j)"
   ]
  },
  {
   "cell_type": "code",
   "execution_count": 47,
   "metadata": {},
   "outputs": [],
   "source": [
    "#Test\n",
    "# next_v = next_velocity(v_init, acc, h)\n",
    "# print(next_v)\n",
    "# next_x = next_position(x_init, v_init, h)\n",
    "# print(next_x)"
   ]
  },
  {
   "cell_type": "code",
   "execution_count": 49,
   "metadata": {},
   "outputs": [
    {
     "name": "stdout",
     "output_type": "stream",
     "text": [
      "[[[0. 0. 0. 0. 0. 0.]\n",
      "  [0. 0. 0. 0. 0. 0.]\n",
      "  [0. 0. 0. 0. 0. 0.]\n",
      "  [0. 0. 0. 0. 0. 0.]\n",
      "  [0. 0. 0. 0. 0. 0.]\n",
      "  [0. 0. 0. 0. 0. 0.]\n",
      "  [0. 0. 0. 0. 0. 0.]\n",
      "  [0. 0. 0. 0. 0. 0.]\n",
      "  [0. 0. 0. 0. 0. 0.]\n",
      "  [0. 0. 0. 0. 0. 0.]]\n",
      "\n",
      " [[0. 0. 0. 0. 0. 0.]\n",
      "  [0. 0. 0. 0. 0. 0.]\n",
      "  [0. 0. 0. 0. 0. 0.]\n",
      "  [0. 0. 0. 0. 0. 0.]\n",
      "  [0. 0. 0. 0. 0. 0.]\n",
      "  [0. 0. 0. 0. 0. 0.]\n",
      "  [0. 0. 0. 0. 0. 0.]\n",
      "  [0. 0. 0. 0. 0. 0.]\n",
      "  [0. 0. 0. 0. 0. 0.]\n",
      "  [0. 0. 0. 0. 0. 0.]]]\n"
     ]
    },
    {
     "ename": "ValueError",
     "evalue": "could not broadcast input array from shape (3) into shape (3,6)",
     "output_type": "error",
     "traceback": [
      "\u001b[0;31m---------------------------------------------------------------------------\u001b[0m",
      "\u001b[0;31mValueError\u001b[0m                                Traceback (most recent call last)",
      "\u001b[0;32m<ipython-input-49-76b085a0d141>\u001b[0m in \u001b[0;36m<module>\u001b[0;34m()\u001b[0m\n\u001b[1;32m      1\u001b[0m \u001b[0mtimesteps\u001b[0m \u001b[0;34m=\u001b[0m \u001b[0mnp\u001b[0m\u001b[0;34m.\u001b[0m\u001b[0mzeros\u001b[0m\u001b[0;34m(\u001b[0m\u001b[0;34m(\u001b[0m\u001b[0mnum_part\u001b[0m\u001b[0;34m,\u001b[0m \u001b[0mnum_time\u001b[0m\u001b[0;34m,\u001b[0m \u001b[0;36m6\u001b[0m\u001b[0;34m)\u001b[0m\u001b[0;34m)\u001b[0m  \u001b[0;31m# 6 degrees of freedom: 3 position coordinates, 3 velocities\u001b[0m\u001b[0;34m\u001b[0m\u001b[0;34m\u001b[0m\u001b[0m\n\u001b[1;32m      2\u001b[0m \u001b[0mprint\u001b[0m\u001b[0;34m(\u001b[0m\u001b[0mtimesteps\u001b[0m\u001b[0;34m)\u001b[0m\u001b[0;34m\u001b[0m\u001b[0;34m\u001b[0m\u001b[0m\n\u001b[0;32m----> 3\u001b[0;31m \u001b[0mtimesteps\u001b[0m\u001b[0;34m[\u001b[0m\u001b[0;36m0\u001b[0m\u001b[0;34m,\u001b[0m \u001b[0;34m:\u001b[0m\u001b[0;36m3\u001b[0m\u001b[0;34m]\u001b[0m \u001b[0;34m=\u001b[0m \u001b[0mx_init\u001b[0m\u001b[0;34m\u001b[0m\u001b[0;34m\u001b[0m\u001b[0m\n\u001b[0m\u001b[1;32m      4\u001b[0m \u001b[0mtimesteps\u001b[0m\u001b[0;34m[\u001b[0m\u001b[0;36m0\u001b[0m\u001b[0;34m,\u001b[0m \u001b[0;36m3\u001b[0m\u001b[0;34m:\u001b[0m\u001b[0;34m]\u001b[0m \u001b[0;34m=\u001b[0m \u001b[0mv_init\u001b[0m\u001b[0;34m\u001b[0m\u001b[0;34m\u001b[0m\u001b[0m\n\u001b[1;32m      5\u001b[0m \u001b[0;31m# print(timesteps)\u001b[0m\u001b[0;34m\u001b[0m\u001b[0;34m\u001b[0m\u001b[0;34m\u001b[0m\u001b[0m\n",
      "\u001b[0;31mValueError\u001b[0m: could not broadcast input array from shape (3) into shape (3,6)"
     ]
    }
   ],
   "source": [
    "timesteps = np.zeros((num_part, num_time, 6))  # 6 degrees of freedom: 3 position coordinates, 3 velocities\n",
    "print(timesteps)\n",
    "timesteps[0, :3] = x_init\n",
    "timesteps[0, 3:] = v_init\n",
    "# print(timesteps)\n",
    "# Change in position adn velocity\n",
    "for t in range(1, num_time):\n",
    "    v_next = next_velocity(timesteps[t-1, 3:], acc, h)\n",
    "    x_next = next_position(timesteps[t-1, :3], timesteps[t-1, 3:], h)\n",
    "    timesteps[t, :3] = x_next\n",
    "    timesteps[t, 3:] = v_next\n",
    "\n",
    "print(timesteps)"
   ]
  },
  {
   "cell_type": "code",
   "execution_count": null,
   "metadata": {},
   "outputs": [],
   "source": []
  }
 ],
 "metadata": {
  "kernelspec": {
   "display_name": "Python 3",
   "language": "python",
   "name": "python3"
  },
  "language_info": {
   "codemirror_mode": {
    "name": "ipython",
    "version": 3
   },
   "file_extension": ".py",
   "mimetype": "text/x-python",
   "name": "python",
   "nbconvert_exporter": "python",
   "pygments_lexer": "ipython3",
   "version": "3.7.2"
  }
 },
 "nbformat": 4,
 "nbformat_minor": 2
}
