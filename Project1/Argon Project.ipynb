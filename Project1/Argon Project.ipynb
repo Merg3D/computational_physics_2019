{
 "cells": [
  {
   "cell_type": "code",
   "execution_count": 1,
   "metadata": {},
   "outputs": [],
   "source": [
    "# Simulating dynamics of Argon atoms\n",
    "# Starting with outlining general kinematics of particles"
   ]
  },
  {
   "cell_type": "markdown",
   "metadata": {},
   "source": [
    "(1/3) Weekly tasks:\n",
    "\n",
    "1) Incorporate **density** and **temperature** into simulation. These are part of the initial conditions. Set up a lattice of 3x3x3 unit cells, where each cells can have 4 particles. The size of the unit cell $a$ determines the density. Use the Maxwell distribution to relate the velocity of the particles to the temperature. **Make sure it's dimensionless!** Now the kinetic energy is $KE=(N-1)\\frac{3}{2}k_BT$. The KE & PE will not be stable, so scale the velocity by a factor of $\\lambda$ such that $v_i\\rightarrow \\lambda v_i$, $\\lambda = \\sqrt{\\frac{(N-1)3k_BT}{\\sum_i mv_i^2}}$. This is to keep a constant temperature.\n",
    "\n",
    "2) Observables, including: (1) **pair correlation function** (_15%_). A histogram of the number of particles $n(r)$ at a distance $[r, r+\\Delta r]$ for bin size $\\Delta r$ which is smaller than $L/2$. The distribution of $N$ particles in a volume $V$ is $g(r)=\\frac{2V}{N(N-1)}\\frac{\\langle n(r)\\rangle}{4\\pi r^2 \\Delta r}$. And (2) the **pressure** (_15%_) or **specific heat** (_If in addition to pressure, up to 10% bonus_). These are given as $\\frac{\\beta P}{\\rho} = 1-\\frac{\\beta}{3N}\\Big\\langle \\frac{1}{2}\\sum_{i,j}\\vec{r}_{ij}\\frac{\\partial U}{\\partial \\vec {r}_{ij}}\\Big\\rangle$ where $\\beta = \\frac{1}{k_BT}$. The specific heat is given as $\\frac{\\langle \\delta K^2\\rangle}{\\langle K\\rangle ^2} = \\frac{2}{3N}\\Big(1-\\frac{3N}{2C_V}\\Big)$ where $\\langle\\delta K^2\\rangle = \\langle K^2\\rangle - \\langle K\\rangle ^2$, the fluctuation in kinetic energy.\n",
    "\n",
    "3) Error: For observables, use (block) bootstrap method, with consideration to the correlation of the observables. Given an original set x, create a set of random elements from x(original) where elements can be repeated. This new dataset is 1 bootstrap subset, x$_1^*$. You can take the mean, A$_1^*$, of each bootstrap subset. In total we say we have M number of bootstrap subsets, and M number of means. We take the \"mean of the means\", $\\mu^* = \\frac{1}{M}\\sum_{i=1}^{M}A_i^*$. The boostrap variance is $s_i^* = A_i^{*2} - \\mu^{*2}$. In general, set M=100. Include the standard deviation f the observables as the errorbars for plots."
   ]
  },
  {
   "cell_type": "markdown",
   "metadata": {},
   "source": [
    "Things to do towards the end:\n",
    "- Write up a report\n",
    "- Polish comments -- get rid of commented code that isn't useful, and only comment \"nontrivial\" sections"
   ]
  },
  {
   "cell_type": "code",
   "execution_count": 2,
   "metadata": {},
   "outputs": [],
   "source": [
    "import numpy as np\n",
    "import matplotlib.pyplot as plt\n",
    "from astropy import constants as const\n",
    "from astropy import units as u\n",
    "\n",
    "import Functions as func"
   ]
  },
  {
   "cell_type": "markdown",
   "metadata": {},
   "source": [
    "Parameters for states of matter:\n",
    "\n",
    "Gas: $\\rho=0.3$, $T=3$\n",
    "\n",
    "Liquid: $\\rho=0.8$, $T=1$\n",
    "\n",
    "Solid: $\\rho=1.2$, $T=0.5$"
   ]
  },
  {
   "cell_type": "code",
   "execution_count": 5,
   "metadata": {},
   "outputs": [],
   "source": [
    "# Initial conditions\n",
    "T = 0.5                                            # Temperature\n",
    "rho = 1.2                                          # Density\n",
    "h = 0.01                                           # time step\n",
    "num_time = 3000                                     # number of time steps\n",
    "num_unit_cells_per_dim = 3                         # number of unit cells in each direction\n",
    "num_unit_cells = num_unit_cells_per_dim**3         # total number of unit cells\n",
    "num_part_per_unit_cell = 4                         # number of particles per unit cell\n",
    "num_part = num_part_per_unit_cell * num_unit_cells # total number of particles\n",
    "L = np.power(num_part / rho, 1/3.0)                # size of simulation box\n",
    "K = L / num_unit_cells_per_dim                     # size of unit cell"
   ]
  },
  {
   "cell_type": "code",
   "execution_count": 4,
   "metadata": {},
   "outputs": [],
   "source": [
    "# state[cell number, particle number, time stamp, position :3 or velocity 3:]\n",
    "state = np.zeros((num_unit_cells, num_part_per_unit_cell, num_time, 6))\n",
    "\n",
    "# store the kinetic and potential energy of each particle for each time step\n",
    "E_kin = np.zeros((num_unit_cells, num_part_per_unit_cell, num_time))\n",
    "E_pot = np.zeros((num_unit_cells, num_part_per_unit_cell, num_time))\n",
    "E_tot = np.zeros((num_unit_cells, num_part_per_unit_cell, num_time))\n",
    "\n",
    "# calculate the initial coordinates by placing all particles on a fcc lattice\n",
    "# the initial velocities of the particles are given by a gaussian ditribution\n",
    "unit_cell = 0                  # initial unit cell\n",
    "mu = 1\n",
    "sigma = np.sqrt(T)\n",
    "rescaling_time = 20\n",
    "\n",
    "# Initial positions for original unit cell\n",
    "state[0, 0, 0, :3] = np.array([0.0, 0.0, 0.0])\n",
    "state[0, 1, 0, :3] = np.array([K / 2.0, K / 2.0, 0.0])\n",
    "state[0, 2, 0, :3] = np.array([K / 2.0, 0.0, K / 2.0])\n",
    "state[0, 3, 0, :3] = np.array([K / 2.0, K / 2.0, K / 2.0])\n",
    "\n",
    "# Initial velocity for original unit cell\n",
    "# create distribution of e^(-mv^2 / 2k_B * T), where k_B = 1 and m = 1\n",
    "state[0, :, 0, 3:] = np.random.normal(mu, sigma, [num_part_per_unit_cell, 3])\n",
    "\n",
    "# set initial positions and velocities\n",
    "for x in range(num_unit_cells_per_dim):\n",
    "    for y in range(num_unit_cells_per_dim):\n",
    "        for z in range(num_unit_cells_per_dim):\n",
    "            # set position based on original unit cell\n",
    "            state[unit_cell, :, 0, :3] = state[0, :, 0, :3] + np.array([x*K, y*K, z*K])\n",
    "            # set velocity from distribution\n",
    "            state[unit_cell, :, 0, 3:] = np.random.normal(mu, sigma, [num_part_per_unit_cell, 3])\n",
    "            unit_cell += 1"
   ]
  },
  {
   "cell_type": "code",
   "execution_count": 91,
   "metadata": {},
   "outputs": [],
   "source": [
    "# store initial kinetic, potential and total energy of each cell&particle and the system\n",
    "for cell in range(num_unit_cells):\n",
    "    for part in range(num_part_per_unit_cell):\n",
    "        E_kin[cell, part, 0] = func.norm(func.KE(state[cell, part, 0, 3:]))\n",
    "        E_pot[cell, part, 0] = 0\n",
    "        E_tot[cell, part, 0] += E_pot[cell, part, 0] + E_kin[cell, part, 0]\n",
    "            cell_offset = np.asarray([x, y, z]) * K\n",
    "            # Change \"unit cell\" to just the particle number\n",
    "            state[unit_cell + 0, 0, :3] = np.asarray([0.0,     0.0,     0.0])     + cell_offset\n",
    "            state[unit_cell + 1, 0, :3] = np.asarray([K / 2.0, K / 2.0, 0.0])     + cell_offset\n",
    "            state[unit_cell + 2, 0, :3] = np.asarray([K / 2.0, 0.0,     K / 2.0]) + cell_offset\n",
    "            state[unit_cell + 3, 0, :3] = np.asarray([K / 2.0, K / 2.0, K / 2.0]) + cell_offset\n",
    "\n",
    "            state[unit_cell + 0, 0, 3:] = velocity_distribution[unit_cell + 0] * func.create_random_vector()\n",
    "            state[unit_cell + 1, 0, 3:] = velocity_distribution[unit_cell + 1] * func.create_random_vector()\n",
    "            state[unit_cell + 2, 0, 3:] = velocity_distribution[unit_cell + 2] * func.create_random_vector()\n",
    "            state[unit_cell + 3, 0, 3:] = velocity_distribution[unit_cell + 3] * func.create_random_vector()\n",
    "\n",
    "            unit_cell += 4\n",
    "\n",
    "num_part = 2\n",
    "state = np.zeros(shape=(num_part, num_time, 6))\n",
    "state[:,0, :] = np.array([[1,1,1, 0, 0, 0],\n",
    "                         [3, 1, 1, 0, 0, 0]])\n",
    "\n",
    "# store initial kinetic, potential and total energy of each particle and the system\n",
    "for i in range(num_part):\n",
    "    E_kin[i, 0] = func.norm(func.KE(state[i, 0, 3:]))\n",
    "    E_pot[i, 0] = 0.5 * func.LJP(func.norm(state[i, 0, :3]))\n",
    "    E_tot[i, 0] = E_pot[i, 0] + E_kin[i, 0]\n",
    "    \n",
    "# # Save distances between reference particle and others for pair correlation function\n",
    "# distances = np.zeros((num_time, num_part-1))\n",
    "# # Initial distances\n",
    "# for i in range(1, num_part):\n",
    "#     distances[0, i-1] = func.dist(state[0, 0, :3], state[i, 0, :3])"
   ]
  },
  {
   "cell_type": "code",
   "execution_count": 6,
   "metadata": {},
   "outputs": [
    {
     "ename": "NameError",
     "evalue": "name 'r_next' is not defined",
     "output_type": "error",
     "traceback": [
      "\u001b[0;31m---------------------------------------------------------------------------\u001b[0m",
      "\u001b[0;31mNameError\u001b[0m                                 Traceback (most recent call last)",
      "\u001b[0;32m<ipython-input-6-a001154f8e60>\u001b[0m in \u001b[0;36m<module>\u001b[0;34m()\u001b[0m\n\u001b[1;32m     28\u001b[0m         \u001b[0;31m# calculate the energy of the particle\u001b[0m\u001b[0;34m\u001b[0m\u001b[0;34m\u001b[0m\u001b[0;34m\u001b[0m\u001b[0m\n\u001b[1;32m     29\u001b[0m         \u001b[0mE_kin\u001b[0m\u001b[0;34m[\u001b[0m\u001b[0mi\u001b[0m\u001b[0;34m,\u001b[0m \u001b[0mt\u001b[0m\u001b[0;34m]\u001b[0m \u001b[0;34m=\u001b[0m \u001b[0mfunc\u001b[0m\u001b[0;34m.\u001b[0m\u001b[0mnorm\u001b[0m\u001b[0;34m(\u001b[0m\u001b[0mfunc\u001b[0m\u001b[0;34m.\u001b[0m\u001b[0mKE\u001b[0m\u001b[0;34m(\u001b[0m\u001b[0mv_next\u001b[0m\u001b[0;34m)\u001b[0m\u001b[0;34m)\u001b[0m\u001b[0;34m\u001b[0m\u001b[0;34m\u001b[0m\u001b[0m\n\u001b[0;32m---> 30\u001b[0;31m         \u001b[0mE_pot\u001b[0m\u001b[0;34m[\u001b[0m\u001b[0mi\u001b[0m\u001b[0;34m,\u001b[0m \u001b[0mt\u001b[0m\u001b[0;34m]\u001b[0m \u001b[0;34m=\u001b[0m \u001b[0;36m0.5\u001b[0m \u001b[0;34m*\u001b[0m \u001b[0mfunc\u001b[0m\u001b[0;34m.\u001b[0m\u001b[0mLJP\u001b[0m\u001b[0;34m(\u001b[0m\u001b[0mfunc\u001b[0m\u001b[0;34m.\u001b[0m\u001b[0mnorm\u001b[0m\u001b[0;34m(\u001b[0m\u001b[0mr_next\u001b[0m\u001b[0;34m)\u001b[0m\u001b[0;34m)\u001b[0m\u001b[0;34m\u001b[0m\u001b[0;34m\u001b[0m\u001b[0m\n\u001b[0m\u001b[1;32m     31\u001b[0m         \u001b[0mE_tot\u001b[0m\u001b[0;34m[\u001b[0m\u001b[0mi\u001b[0m\u001b[0;34m,\u001b[0m \u001b[0mt\u001b[0m\u001b[0;34m]\u001b[0m \u001b[0;34m=\u001b[0m \u001b[0mE_pot\u001b[0m\u001b[0;34m[\u001b[0m\u001b[0mi\u001b[0m\u001b[0;34m,\u001b[0m \u001b[0mt\u001b[0m\u001b[0;34m]\u001b[0m \u001b[0;34m+\u001b[0m \u001b[0mE_kin\u001b[0m\u001b[0;34m[\u001b[0m\u001b[0mi\u001b[0m\u001b[0;34m,\u001b[0m \u001b[0mt\u001b[0m\u001b[0;34m]\u001b[0m\u001b[0;34m\u001b[0m\u001b[0;34m\u001b[0m\u001b[0m\n",
      "\u001b[0;31mNameError\u001b[0m: name 'r_next' is not defined"
     ]
    }
   ],
   "source": [
    "# Change in position and velocity\n",
    "for t in range(1, num_time): \n",
    "    for cell in range(1, num_unit_cells):\n",
    "        for particle in range(1, num_part_per_unit_cell):        \n",
    "    #         if t == rescaling_time:\n",
    "    #             func.rescale_velocities(state, t-1, num_part, T)\n",
    "\n",
    "            # the distance and force between the two closest particles at t-1\n",
    "            r = func.get_r(state, t-1, i, L)\n",
    "            F = func.acceleration(r)\n",
    "\n",
    "            # positions at time t\n",
    "            state[i, t, :3] = func.next_position(state[i, t-1, :3], state[i, t-1, 3:], F, h, L)\n",
    "            distances[t, i-1] = func.dist(state[0, t, :3], state[i, t, :3])\n",
    "\n",
    "            # r, force and velocity at time t\n",
    "            r_next = func.get_r(state, t, i, L)\n",
    "            F_next = func.acceleration(r_next)\n",
    "            v_next = func.next_velocity(state[i, t-1, 3:], F, F_next, h)\n",
    "\n",
    "            distances[0, i-1] = func.dist(state[0, 0, :3], state[i, 0, :3])\n",
    "\n",
    "            # calculate the energy of the particle\n",
    "            E_kin[i, t] = func.norm(func.KE(v_next))\n",
    "            E_pot[i, t] = func.LJP(func.norm(r_next))\n",
    "            E_tot[i, t] += E_pot[i, t] + E_kin[i, t]forces = np.zeros(shape=(num_part, 3))\n",
    "\n",
    "for t in range(1, num_time):\n",
    "   \n",
    "    for i in range(0, num_part):        \n",
    "        #if t == rescaling_time:\n",
    "        #    func.rescale_velocities(state, t-1, num_part, T)\n",
    "        \n",
    "        # the distance and force between the two closest particles at t-1\n",
    "        F = func.get_force(state, t-1, i, L)\n",
    "        forces[i] = F\n",
    "        \n",
    "        # positions at time t\n",
    "        state[i, t, :3] = func.next_position(state[i, t-1, :3], state[i, t-1, 3:], F, h, L)\n",
    "        \n",
    "        #distances[t, i-1] = func.dist(state[0, t, :3], state[i, t, :3])\n",
    "\n",
    "    for i in range(0, num_part):\n",
    "        # r, force and velocity at time t\n",
    "        F_next = func.get_force(state, t, i, L)\n",
    "        \n",
    "        v_next = func.next_velocity(state[i, t-1, 3:], forces[i], F_next, h)\n",
    "        state[i, t, 3:] = v_next\n",
    "        \n",
    "        #distances[0, i-1] = func.dist(state[0, 0, :3], state[i, 0, :3])\n",
    "\n",
    "        # calculate the energy of the particle\n",
    "        E_kin[i, t] = func.norm(func.KE(v_next))\n",
    "        F_next = func.acceleration(r_next)\n",
    "        E_pot[i, t] = 0.5 * func.LJP(func.norm(r_next))\n",
    "        E_tot[i, t] = E_pot[i, t] + E_kin[i, t]"
   ]
  },
  {
   "cell_type": "markdown",
   "metadata": {},
   "source": [
    "For pair correlation function: Count the number of particles at a given distance within a bin size (have the bin size variable). Take the average of this count over all time steps. This will be \"_n(r)_\""
   ]
  },
  {
   "cell_type": "code",
   "execution_count": null,
   "metadata": {
    "scrolled": true
   },
   "outputs": [],
   "source": [
    "# plt.figure()\n",
    "# plt.hist(distances[0])\n",
    "# plt.xlabel('Distance r')\n",
    "# plt.ylabel('Frequency')\n",
    "\n",
    "# dr = 1\n",
    "# a = func.pair_correlation(distances[0], np.arange(dr, L * 2, dr), dr, L, num_part)\n",
    "# plt.figure()\n",
    "# plt.plot(a)\n",
    "# plt.xlabel('Distance r')\n",
    "# plt.ylabel('g')\n",
    "# plt.show()"
   ]
  },
  {
   "cell_type": "markdown",
   "metadata": {},
   "source": [
    "https://en.wikipedia.org/wiki/Radial_distribution_function\n",
    "https://docs.scipy.org/doc/numpy/reference/generated/numpy.histogram.html\n",
    "https://gitlab.kwant-project.org/computational_physics_19/course_notes/blob/master/project%201/project.md"
   ]
  },
  {
   "cell_type": "code",
   "execution_count": null,
   "metadata": {},
   "outputs": [],
   "source": [
    "# # plot the potential, kinetic and total energy\n",
    "# plt.title('Potential energy as function of time')\n",
    "# plt.plot(range(num_time), np.sum(E_kin[:, :], axis=0), linestyle='-',  marker='o', label='kinetic energy')\n",
    "# plt.plot(range(num_time), np.sum(E_pot[:, :], axis=0), linestyle='-',  marker='o', label='potential energy')    \n",
    "# plt.plot(range(num_time), np.sum(E_tot[:, :], axis=0), linestyle='--', marker='o', label='total energy')\n",
    "# plt.xlabel('Timestep')\n",
    "# plt.ylabel('Energy')\n",
    "# plt.grid()\n",
    "# plt.legend()\n",
    "# plt.figure()\n",
    "\n",
    "# # plot the velocity in x-direction\n",
    "# plt.title('Velocity as function of time')\n",
    "# plt.plot(range(num_time), state[1, :, 3], linestyle='-', marker='o', label='velocity')\n",
    "# plt.xlabel('Timestep')\n",
    "# plt.ylabel('Velocity')\n",
    "# plt.grid()\n",
    "\n",
    "# # plot the positions of all particles in a new figure and plot the initial positions in green\n",
    "# plt.figure()\n",
    "# plt.title('Positions of the particles')\n",
    "# for x in range(num_part):\n",
    "#     plt.scatter(state[x, 1:, 0], state[x, 1:, 1], label='particle {}'.format(x))\n",
    "#     plt.scatter(state[x, 0, 0],  state[x, 0, 1],  c='g')\n",
    "\n",
    "# # restrict the view around the box + a small margin\n",
    "# view_margin = K / 10.0\n",
    "# plt.xlim(-view_margin, K * num_unit_cells_per_dim + view_margin)\n",
    "# plt.ylim(-view_margin, K * num_unit_cells_per_dim + view_margin)\n",
    "# plt.xlabel('X')\n",
    "# plt.ylabel('Y')\n",
    "\n",
    "# # add border lines around the box\n",
    "# for x in range(num_unit_cells_per_dim + 1):\n",
    "#     for y in range(num_unit_cells_per_dim + 1):\n",
    "#         plt.axvline(x * K, c='darkgrey', lw = 1)\n",
    "#         plt.axhline(y * K, c='darkgrey', lw = 1)\n",
    "\n",
    "# plt.show()"
   ]
  },
  {
   "cell_type": "code",
   "execution_count": null,
   "metadata": {},
   "outputs": [],
   "source": []
  }
 ],
 "metadata": {
  "kernelspec": {
   "display_name": "Python 3",
   "language": "python",
   "name": "python3"
  },
  "language_info": {
   "codemirror_mode": {
    "name": "ipython",
    "version": 3
   },
   "file_extension": ".py",
   "mimetype": "text/x-python",
   "name": "python",
   "nbconvert_exporter": "python",
   "pygments_lexer": "ipython3",
   "version": "3.6.7"
  }
 },
 "nbformat": 4,
 "nbformat_minor": 2
}
