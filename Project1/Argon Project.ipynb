{
 "cells": [
  {
   "cell_type": "code",
   "execution_count": 2,
   "metadata": {
    "collapsed": true
   },
   "outputs": [],
   "source": [
    "# Simulating dynamics of Argon atoms\n",
    "# Starting with outlining general kinematics of particles"
   ]
  },
  {
   "cell_type": "markdown",
   "metadata": {},
   "source": [
    "Week 1:\n",
    "Play around with this system. Start by simulating the time evolution of a few particles in a periodic box, \n",
    "add the forces due to the Lennard-Jones potential. Check how the total energy of your system evolves over time.\n",
    "It's easier to start with a 2D system, but plan to switch to 3D at a later stage.\n",
    "Week 2:\n",
    "Derive the expression of the kinetic energy in dimensionless units\n",
    "Write a molecular dynamics code that uses dimensionless units and simulate a few atoms. \n",
    "Plot both kinetic, potential and total energy.\n",
    "Boundary condition, minimal image convention"
   ]
  },
  {
   "cell_type": "code",
   "execution_count": 3,
   "metadata": {
    "collapsed": true
   },
   "outputs": [],
   "source": [
    "import numpy as np\n",
    "import matplotlib.pyplot as plt\n",
    "from astropy import constants as const\n",
    "from astropy import units as u"
   ]
  },
  {
   "cell_type": "code",
   "execution_count": 4,
   "metadata": {
    "collapsed": false
   },
   "outputs": [],
   "source": [
    "def norm(r, axis=0):\n",
    "    ''' Calculate the magnitude/norm of a vector r'''\n",
    "    return np.sqrt(np.sum(r**2.0, axis))\n",
    "\n",
    "# Acceleration = Force\n",
    "def acceleration(r):\n",
    "    '''Force between partices r apart\n",
    "    r is magnitude (dimensionless)'''\n",
    "    nablaU = dUdr(norm(r)) * r / norm(r)\n",
    "    return -nablaU\n",
    "\n",
    "def apply_boundary_conditions(x):\n",
    "    '''Apply boundary conditions for a box of size L x L x L to position x'''\n",
    "    for d in range(3):\n",
    "        if (x[d] < 0.0):\n",
    "            x[d] = K - x[d]\n",
    "        elif (x[d] > K):\n",
    "            x[d] = x[d] - K\n",
    "    return x\n",
    "\n",
    "# velocity at time t\n",
    "def current_velocity(x_next, x_prev):\n",
    "    '''Current velocity of a particle\n",
    "    next position x_next from function at time t+h\n",
    "    previous position at time t-h'''\n",
    "    v = (x_next - x_prev)/(2.0*h)\n",
    "    return v\n",
    "\n",
    "# position at t+h\n",
    "def next_position(x, v, force):\n",
    "    '''The next position value\n",
    "    current position x at time t\n",
    "    current velocity v\n",
    "    force from acceleration, at time t\n",
    "    Dimensionless units'''\n",
    "    x_next = x + h * v + (h**2.0 / 2.0 * force)\n",
    "    return apply_boundary_conditions(x_next)\n",
    "\n",
    "# velocity at time t+h\n",
    "def next_velocity(v, force, force_next):\n",
    "    '''Finding the next velocity value\n",
    "    current velocity time t\n",
    "    current force time t\n",
    "    next force time t+h\n",
    "    Dimensionless units'''\n",
    "    v_next = v + h / 2.0 * (force + force_next)\n",
    "    return v_next\n",
    "\n",
    "# Potential Energy\n",
    "def LJP(r):\n",
    "    '''Lennard-Jones potential formula\n",
    "    Describes the potential of the system given a distance between two particles\n",
    "    in dimensionless units, no sigma or epsilon\n",
    "    function of magnitude distance r'''\n",
    "    return 4*(1/(r**12.) - 1/(r**6.))\n",
    "\n",
    "# Kinetic Energy\n",
    "def KE(v):\n",
    "    '''Kinetic energy from velocity vector'''\n",
    "    return 0.5 * v**2.0\n",
    "\n",
    "def dUdr(r):\n",
    "    ''' Derivative of LJP WRT r\n",
    "    in dimensionless units, no sigma or epsilon\n",
    "    function of magnitude distance r'''\n",
    "    return -48./(r**13.) + 24/(r**7.)\n",
    "\n",
    "def get_r(state, t, particle):\n",
    "    '''Determine the closest particle for a given particle at a given time (t) and\n",
    "       return the distance between these two particles'''\n",
    "    xi = state[particle, t, :3]\n",
    "    xj = np.delete(state[:, t, :3], particle, axis=0) # exclude the particle itself\n",
    "    closest_part = (norm((xi - xj + K/2) % K - K/2, axis = 1)).argmin()\n",
    "    return xi - xj[closest_part]\n",
    "\n",
    "def create_random_vector():\n",
    "    '''Calculate a unitary vector in random direction'''\n",
    "    vec = np.asarray([np.random.uniform(), np.random.uniform(), np.random.uniform()])\n",
    "    return vec / norm(vec)"
   ]
  },
  {
   "cell_type": "code",
   "execution_count": 5,
   "metadata": {
    "collapsed": true
   },
   "outputs": [],
   "source": [
    "# Parameters given in dimensionless units of sigma\n",
    "#  Perhaps convert between units later\n",
    "# Variables\n",
    "# Argon\n",
    "# epsilon = const.k_B * 119.8*u.K\n",
    "# sigma = 3.405*u.AA\n",
    "# mass = 39.948*u.u"
   ]
  },
  {
   "cell_type": "code",
   "execution_count": 6,
   "metadata": {
    "collapsed": false
   },
   "outputs": [],
   "source": [
    "# The force at x is the negative gradient of the potential at x\n",
    "# The gradient of the potential is the derivative of the potential WRT r times x/r\n",
    "# where r is the magnitude of the distance and x is a vector\n",
    "\n",
    "# Initial conditions\n",
    "h = 0.05                         # time step\n",
    "num_time = 3                    # number of time steps\n",
    "num_unit_cells_per_dim = 2             # number of particles in each direction\n",
    "num_unit_cells = num_unit_cells_per_dim**2   # total number of particles\n",
    "num_part = 2 * num_unit_cells\n",
    "L = 4.0                          # size of unit cell\n",
    "K = L * num_unit_cells_per_dim   # size of the box"
   ]
  },
  {
   "cell_type": "code",
   "execution_count": 7,
   "metadata": {},
   "outputs": [],
   "source": [
    "# state consists of 6 degrees of freedom: 3 position coordinates, 3 velocities\n",
    "state = np.zeros((num_part, num_time, 6))\n",
    "\n",
    "# store the kinetic and potential energy of 2 particles in 3 dimensions for num_time timesteps\n",
    "E_kin = np.zeros((num_part, num_time, 3))\n",
    "E_pot = np.zeros((num_part, num_time))\n",
    "E_tot = np.zeros((num_part, num_time))\n",
    "\n",
    "# calculate the initial coordinates by placing all particles on a fcc lattice\n",
    "# the initial velocities of the particles are given by a gaussian ditribution\n",
    "unit_cell = 0\n",
    "mu = 1\n",
    "T = 300\n",
    "sigma = np.sqrt(T)\n",
    "\n",
    "velocity_distribution = np.random.normal(mu, sigma, num_part)\n",
    "\n",
    "for x in range(num_unit_cells_per_dim):\n",
    "    for y in range(num_unit_cells_per_dim):\n",
    "        cell_offset = np.asarray([x, y, 0.0]) * L\n",
    "        state[unit_cell + 0, 0, :3] = np.asarray([0.0, 0.0, 0.0]) + cell_offset\n",
    "        state[unit_cell + 1, 0, :3] = np.asarray([L / 2.0, L / 2.0, 0.0]) + cell_offset\n",
    "        #state[unit_cell + 1, 0, :3] = np.asarray([L / 2.0, 0.0, L / 2.0]) + cell_offset\n",
    "        #state[unit_cell + 1, 0, :3] = np.asarray([L / 2.0, L / 2.0, L / 2.0]) + cell_offset\n",
    "        \n",
    "        state[unit_cell + 0, 0, 3:] = velocity_distribution[unit_cell + 0] * create_random_vector()\n",
    "        state[unit_cell + 1, 0, 3:] = velocity_distribution[unit_cell + 1] * create_random_vector()\n",
    "        \n",
    "        unit_cell += 2\n",
    "\n",
    "# store initial kinetic, potential and total energy of each particle and the system\n",
    "for i in range(num_part):\n",
    "    E_kin[i, 0, :] = KE(state[i, 0, 3:])\n",
    "    E_pot[i, 0] = 0\n",
    "    E_tot[i, 0] += E_pot[i, 0] + norm(E_kin[i, 0, :])\n",
    "\n",
    "# Change in position and velocity\n",
    "for t in range(1, num_time):    \n",
    "    for i in range(1, num_part):\n",
    "        # the distance and force between the two closest particles at t-1\n",
    "        r = get_r(state, t-1, i)\n",
    "        F = acceleration(r)\n",
    "\n",
    "        # positions at time t\n",
    "        state[i, t, :3] = next_position(state[i, t-1, :3], state[i, t-1, 3:], F)\n",
    "\n",
    "        # r, force and velocity at time t\n",
    "        r_next = get_r(state, t, i)\n",
    "        F_next = acceleration(r_next)\n",
    "        v_next = next_velocity(state[i, t-1, 3:], F, F_next)\n",
    "        state[i, t, 3:] = v_next\n",
    "\n",
    "        # calculate the energy of the particle\n",
    "        E_kin[i, t, :] = KE(v_next)\n",
    "        E_pot[i, t] = LJP(norm(r_next))\n",
    "        E_tot[i, t] += E_pot[i, t] + norm(E_kin[i, t, :])"
   ]
  },
  {
   "cell_type": "code",
   "execution_count": 8,
   "metadata": {},
   "outputs": [
    {
     "data": {
      "image/png": "[encoded data removed]",
      "text/plain": [
       "<Figure size 432x288 with 1 Axes>"
      ]
     },
     "metadata": {},
     "output_type": "display_data"
    },
    {
     "data": {
      "image/png": "[encoded data removed]",
      "text/plain": [
       "<Figure size 432x288 with 1 Axes>"
      ]
     },
     "metadata": {},
     "output_type": "display_data"
    },
    {
     "data": {
      "image/png": "[encoded data removed]",
      "text/plain": [
       "<Figure size 432x288 with 1 Axes>"
      ]
     },
     "metadata": {},
     "output_type": "display_data"
    }
   ],
   "source": [
    "# plot the potential, kinetic and total energy\n",
    "plt.title('Potential energy as function of time')\n",
    "plt.plot(range(num_time), E_kin[1, :, 0], linestyle='-', marker='o', label='kinetic energy')\n",
    "plt.plot(range(num_time), E_pot[1, :], linestyle='-', marker='o', label='potential energy')    \n",
    "plt.plot(range(num_time), E_tot[1, :], linestyle='--', marker='o', label='total energy')\n",
    "plt.xlabel('Timestep')\n",
    "plt.ylabel('Energy')\n",
    "plt.grid()\n",
    "plt.legend()\n",
    "plt.figure()\n",
    "\n",
    "# plot the velocity in x-direction\n",
    "plt.title('Velocity in x-direction as function of time')\n",
    "plt.plot(range(num_time), state[1, :, 3], linestyle='-', marker='o', label='velocity')\n",
    "plt.xlabel('Timestep')\n",
    "plt.ylabel('Velocity')\n",
    "plt.grid()\n",
    "\n",
    "# plot the positions of all particles in a new figure and plot the initial positions in green\n",
    "plt.figure()\n",
    "plt.title('Positions of the particles')\n",
    "for x in range(num_part):\n",
    "    plt.scatter(state[x, 1:, 0], state[x, 1:, 1], label='particle {}'.format(x))\n",
    "    plt.scatter(state[x, 0, 0], state[x, 0, 1], c='g')\n",
    "\n",
    "# restrict the view around the box + a small margin\n",
    "view_margin = L / 10.0\n",
    "plt.xlim(-view_margin, L * num_unit_cells_per_dim + view_margin)\n",
    "plt.ylim(-view_margin, L * num_unit_cells_per_dim + view_margin)\n",
    "plt.xlabel('X')\n",
    "plt.ylabel('Y')\n",
    "plt.grid()\n",
    "\n",
    "# add border lines around the box\n",
    "for x in range(num_unit_cells_per_dim + 1):\n",
    "    for y in range(num_unit_cells_per_dim + 1):\n",
    "        plt.axvline(x * L)\n",
    "        plt.axhline(y * L)\n",
    "\n",
    "plt.show()"
   ]
  },
  {
   "cell_type": "markdown",
   "metadata": {},
   "source": [
    "The simulation works (I think), because:\n",
    "- The 3 particles move towards the particle in the center in the beginning\n",
    "- At a certain point, the repulsive term dominates the attractive term, which causes the three particles to move away from the center again. This term is stonger and therefore has more effect on the velocities. At this point the sign of the velocity changes and there is a stronger potential energy. This causes the particles to oscillate around an equilibrium.\n",
    "- The potential energy is always negative\n",
    "- The total energy is conserved throughout time, but not during each oscillation. I don't know whether that should be the case."
   ]
  },
  {
   "cell_type": "code",
   "execution_count": null,
   "metadata": {},
   "outputs": [],
   "source": []
  }
 ],
 "metadata": {
  "kernelspec": {
   "display_name": "Python 3",
   "language": "python",
   "name": "python3"
  },
  "language_info": {
   "codemirror_mode": {
    "name": "ipython",
    "version": 3
   },
   "file_extension": ".py",
   "mimetype": "text/x-python",
   "name": "python",
   "nbconvert_exporter": "python",
   "pygments_lexer": "ipython3",
   "version": "3.6.7"
  }
 },
 "nbformat": 4,
 "nbformat_minor": 2
}
