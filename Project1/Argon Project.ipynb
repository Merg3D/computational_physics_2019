{
 "cells": [
  {
   "cell_type": "code",
   "execution_count": 1,
   "metadata": {
    "collapsed": true
   },
   "outputs": [],
   "source": [
    "# Simulating dynamics of Argon atoms\n",
    "# Starting with outlining general kinematics of particles"
   ]
  },
  {
   "cell_type": "markdown",
   "metadata": {},
   "source": [
    "Week 1:\n",
    "Play around with this system. Start by simulating the time evolution of a few particles in a periodic box, \n",
    "add the forces due to the Lennard-Jones potential. Check how the total energy of your system evolves over time.\n",
    "It's easier to start with a 2D system, but plan to switch to 3D at a later stage.\n",
    "Week 2:\n",
    "Derive the expression of the kinetic energy in dimensionless units\n",
    "Write a molecular dynamics code that uses dimensionless units and simulate a few atoms. \n",
    "Plot both kinetic, potential and total energy.\n",
    "Boundary condition, minimal image convention"
   ]
  },
  {
   "cell_type": "code",
   "execution_count": 2,
   "metadata": {
    "collapsed": false
   },
   "outputs": [],
   "source": [
    "import numpy as np\n",
    "import matplotlib.pyplot as plt\n",
    "from astropy import constants as const\n",
    "from astropy import units as u"
   ]
  },
  {
   "cell_type": "code",
   "execution_count": 3,
   "metadata": {
    "collapsed": false
   },
   "outputs": [],
   "source": [
    "'''Parameters given in dimensionless units of sigma\n",
    " Perhaps convert between units later'''\n",
    "# Variables\n",
    "# Argon\n",
    "# epsilon = const.k_B * 119.8*u.K\n",
    "# sigma = 3.405*u.AA\n",
    "# mass = 39.948*u.u\n",
    "\n",
    "L = 10.0"
   ]
  },
  {
   "cell_type": "code",
   "execution_count": 4,
   "metadata": {
    "collapsed": false
   },
   "outputs": [],
   "source": [
    "# Lennard-Jones potential \n",
    "def LJP(r):\n",
    "    '''Lennard-Jones potential formula\n",
    "    Describes the potential of the system given a distance between two particles\n",
    "    in dimensionless units, no sigma or epsilon\n",
    "    function of magnitude distance r'''\n",
    "    return 4*(1/(r**12.) - 1/(r**6.))\n",
    "\n",
    "def dUdr(r):\n",
    "    ''' Derivative of LJP WRT r\n",
    "    in dimensionless units, no sigma or epsilon\n",
    "    function of magnitude distance r'''\n",
    "    return -48./(r**13.) + 24/(r**7.)\n",
    "\n",
    "def norm(r):\n",
    "    ''' Calculate the magnitude/norm of a vector r'''\n",
    "    return np.sqrt(np.sum(r**2.0))\n",
    "\n",
    "def acceleration(derivU, r):\n",
    "    '''Force from LJP potential\n",
    "    derivU from function dUdr\n",
    "    r is magnitude (dimensionless)'''\n",
    "    nablaU = derivU * r / norm(r)\n",
    "    return -nablaU\n",
    "\n",
    "# New velocity\n",
    "def next_velocity(v_prev, a, t):\n",
    "    '''Finding the next velocity value\n",
    "    previous velocity v_prev\n",
    "    acceleration a at x_prev\n",
    "    timestep t\n",
    "    Dimensionless units'''\n",
    "    return v_prev + a*t\n",
    "\n",
    "def apply_boundary_conditions(x):\n",
    "    '''Apply boundary conditions for a box of size L x L x L to position x'''\n",
    "    for d in range(3):\n",
    "        if (x[d] < 0.0):\n",
    "            x[d] = L - x[d]\n",
    "        elif (x[d] > L):\n",
    "            x[d] = x[d] - L\n",
    "    \n",
    "    return x\n",
    "\n",
    "# New position given a timestep\n",
    "def next_position(x_prev, v_prev, t):\n",
    "    '''The next position value\n",
    "    previous position x_prev\n",
    "    previous velocity v_prev\n",
    "    timestep t\n",
    "    Dimensionless units'''\n",
    "    return apply_boundary_conditions(x_prev + v_prev*t)"
   ]
  },
  {
   "cell_type": "code",
   "execution_count": 5,
   "metadata": {
    "collapsed": false
   },
   "outputs": [],
   "source": [
    "# The force at x is the negative gradient of the potential at x\n",
    "# The gradient of the potential is the derivative of the potential WRT r times x/r\n",
    "# where r is the magnitude of the distance and x is a vector\n",
    "\n",
    "# Initial conditions\n",
    "h = 0.05 # time step\n",
    "num_time = 40  # number of time steps\n",
    "num_part = 2\n",
    "\n",
    "x_i_init = np.array([1.0, 9.0, 0.0]) # initial position vector of particle i\n",
    "v_i_init = np.array([1.0, 1.0, 0.0]) # initial velocity vector of particle i\n",
    "\n",
    "x_j_init = np.array([9.0, 1.0, 0.0])\n",
    "v_j_init = np.array([0.0, 0.0, 0.0])"
   ]
  },
  {
   "cell_type": "code",
   "execution_count": 6,
   "metadata": {
    "collapsed": true
   },
   "outputs": [],
   "source": [
    "#Test\n",
    "# next_v = next_velocity(v_init, acc, h)\n",
    "# print(next_v)\n",
    "# next_x = next_position(x_init, v_init, h)\n",
    "# print(next_x)"
   ]
  },
  {
   "cell_type": "code",
   "execution_count": 7,
   "metadata": {
    "collapsed": false
   },
   "outputs": [],
   "source": [
    "state = np.zeros((num_part, num_time, 6))  # state consists of 6 degrees of freedom: 3 position coordinates, 3 velocities\n",
    "\n",
    "# store the initial state of the system\n",
    "state[0, 0, :3] = x_i_init\n",
    "state[0, 0, 3:] = v_i_init\n",
    "state[1, 0, :3] = x_j_init\n",
    "state[1, 0, 3:] = v_j_init\n",
    "\n",
    "# store the kinetic and potential energy of 2 particles in 3 dimensions for num_time timesteps\n",
    "E_kin = np.zeros((2, 3, num_time))\n",
    "E_pot = np.zeros((num_time))\n",
    "E_tot = np.zeros((num_time))\n",
    "\n",
    "timesteps = range(1, num_time)\n",
    "\n",
    "# box size\n",
    "L = 10.0\n",
    "\n",
    "# Change in position and velocity\n",
    "for t in timesteps:\n",
    "    \n",
    "    # calculate the distance between the two particles    \n",
    "    r = state[0, t-1, :3] - state[1, t-1, :3]\n",
    "    r_norm = norm(r)\n",
    "    \n",
    "    # calculate the acceleration of both particles\n",
    "    acc = acceleration(dUdr(r_norm), r)\n",
    "    \n",
    "    # let the system evolve for both particles\n",
    "    v_next_i = next_velocity(state[0, t-1, 3:], acc, h)\n",
    "    x_next_i = next_position(state[0, t-1, :3], state[0, t-1, 3:], h)\n",
    "    v_next_j = next_velocity(state[1, t-1, 3:], acc, h)\n",
    "    x_next_j = next_position(state[1, t-1, :3], state[1, t-1, 3:], h)\n",
    "    state[0, t, :3] = x_next_i\n",
    "    state[0, t, 3:] = v_next_i\n",
    "    state[1, t, :3] = x_next_j\n",
    "    state[1, t, 3:] = v_next_j\n",
    "    \n",
    "    # calculate the kinetic energy of the particles\n",
    "    E_kin[0, :, t-1] = 0.5 * v_next_i ** 2.0\n",
    "    E_kin[1, :, t-1] = 0.5 * v_next_j ** 2.0\n",
    "    \n",
    "    # calculate the potential energy\n",
    "    E_pot[t-1] = LJP(r_norm)\n",
    "    \n",
    "    # the total energy is the sum of the kinetic energy of both particles and the potential energy\n",
    "    E_tot[t-1] = E_pot[t-1] + E_kin[0, 0, t-1] + E_kin[1, 0, t-1]"
   ]
  },
  {
   "cell_type": "code",
   "execution_count": 8,
   "metadata": {
    "collapsed": false
   },
   "outputs": [
    {
     "data": {
      "image/png": "[encoded data removed]",
      "text/plain": [
       "<Figure size 432x288 with 1 Axes>"
      ]
     },
     "metadata": {},
     "output_type": "display_data"
    },
    {
     "data": {
      "image/png": "[encoded data removed]",
      "text/plain": [
       "<Figure size 432x288 with 1 Axes>"
      ]
     },
     "metadata": {},
     "output_type": "display_data"
    }
   ],
   "source": [
    "# plot the potential, kinetic and total energy\n",
    "plt.title('Energies as a function of time')\n",
    "plt.plot(timesteps, E_kin[0, 0, :-1], linestyle='-', marker='o', c='r', label='kinetic energy of particle 1')\n",
    "plt.plot(timesteps, E_kin[1, 0, :-1], linestyle='-', marker='o', c='g', label='kinetic energy of particle 2')\n",
    "plt.plot(timesteps, E_pot[:-1], linestyle='-', marker='o', c='b', label='potential energy')\n",
    "plt.plot(timesteps, E_tot[:-1], linestyle='--', marker='o', c='y', label='total energy')\n",
    "plt.xlabel('Timestep')\n",
    "plt.ylabel('Energy')\n",
    "plt.grid()\n",
    "plt.legend()\n",
    "\n",
    "# plot the positions of both particles in a new figure\n",
    "plt.figure()\n",
    "plt.title('Positions of the particles')\n",
    "plt.scatter(state[0, :, 0], state[0, :, 1], linestyle='-', marker='o', c='r', label='particle i')\n",
    "plt.scatter(state[1, :, 0], state[1, :, 1], linestyle='-', marker='o', c='g', label='particle j')\n",
    "\n",
    "# restrict the view around the box + a small margin\n",
    "view_margin = 0.5\n",
    "plt.xlim(-view_margin, L + view_margin)\n",
    "plt.ylim(-view_margin, L + view_margin)\n",
    "plt.xlabel('X')\n",
    "plt.ylabel('Y')\n",
    "plt.grid()\n",
    "plt.legend()\n",
    "\n",
    "# add border lines around the box\n",
    "plt.axvline(0)\n",
    "plt.axvline(L)\n",
    "plt.axhline(0)\n",
    "plt.axhline(L)\n",
    "\n",
    "plt.show()"
   ]
  }
 ],
 "metadata": {
  "kernelspec": {
   "display_name": "Python 3",
   "language": "python",
   "name": "python3"
  },
  "language_info": {
   "codemirror_mode": {
    "name": "ipython",
    "version": 3
   },
   "file_extension": ".py",
   "mimetype": "text/x-python",
   "name": "python",
   "nbconvert_exporter": "python",
   "pygments_lexer": "ipython3",
   "version": "3.5.3"
  }
 },
 "nbformat": 4,
 "nbformat_minor": 2
}
