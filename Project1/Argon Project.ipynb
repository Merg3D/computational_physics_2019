{
 "cells": [
  {
   "cell_type": "code",
   "execution_count": 1,
   "metadata": {},
   "outputs": [],
   "source": [
    "# Simulating dynamics of Argon atoms\n",
    "# Starting with outlining general kinematics of particles"
   ]
  },
  {
   "cell_type": "markdown",
   "metadata": {},
   "source": [
    "(1/3) Weekly tasks:\n",
    "\n",
    "1) Incorporate **density** and **temperature** into simulation. These are part of the initial conditions. Set up a lattice of 3x3x3 unit cells, where each cells can have 4 particles. The size of the unit cell $a$ determines the density. Use the Maxwell distribution to relate the velocity of the particles to the temperature. **Make sure it's dimensionless!** Now the kinetic energy is $KE=(N-1)\\frac{3}{2}k_BT$. The KE & PE will not be stable, so scale the velocity by a factor of $\\lambda$ such that $v_i\\rightarrow \\lambda v_i$, $\\lambda = \\sqrt{\\frac{(N-1)3k_BT}{\\sum_i mv_i^2}}$. This is to keep a constant temperature.\n",
    "\n",
    "2) Observables, including: (1) **pair correlation function** (_15%_). A histogram of the number of particles $n(r)$ at a distance $[r, r+\\Delta r]$ for bin size $\\Delta r$ which is smaller than $L/2$. The distribution of $N$ particles in a volume $V$ is $g(r)=\\frac{2V}{N(N-1)}\\frac{\\langle n(r)\\rangle}{4\\pi r^2 \\Delta r}$. And (2) the **pressure** (_15%_) or **specific heat** (_If in addition to pressure, up to 10% bonus_). These are given as $\\frac{\\beta P}{\\rho} = 1-\\frac{\\beta}{3N}\\Big\\langle \\frac{1}{2}\\sum_{i,j}\\vec{r}_{ij}\\frac{\\partial U}{\\partial \\vec {r}_{ij}}\\Big\\rangle$ where $\\beta = \\frac{1}{k_BT}$. The specific heat is given as $\\frac{\\langle \\delta K^2\\rangle}{\\langle K\\rangle ^2} = \\frac{2}{3N}\\Big(1-\\frac{3N}{2C_V}\\Big)$ where $\\langle\\delta K^2\\rangle = \\langle K^2\\rangle - \\langle K\\rangle ^2$, the fluctuation in kinetic energy.\n",
    "\n",
    "3) Error: For observables, use (block) bootstrap method, with consideration to the correlation of the observables. Given an original set x, create a set of random elements from x(original) where elements can be repeated. This new dataset is 1 bootstrap subset, x$_1^*$. You can take the mean, A$_1^*$, of each bootstrap subset. In total we say we have M number of bootstrap subsets, and M number of means. We take the \"mean of the means\", $\\mu^* = \\frac{1}{M}\\sum_{i=1}^{M}A_i^*$. The boostrap variance is $s_i^* = A_i^{*2} - \\mu^{*2}$. In general, set M=100. Include the standard deviation f the observables as the errorbars for plots."
   ]
  },
  {
   "cell_type": "markdown",
   "metadata": {},
   "source": [
    "Things to do towards the end:\n",
    "- Write up a report\n",
    "- Polish comments -- get rid of commented code that isn't useful, and only comment \"nontrivial\" sections"
   ]
  },
  {
   "cell_type": "code",
   "execution_count": 2,
   "metadata": {},
   "outputs": [],
   "source": [
    "import numpy as np\n",
    "import matplotlib.pyplot as plt\n",
    "from astropy import constants as const\n",
    "from astropy import units as u\n",
    "\n",
    "import Functions as func"
   ]
  },
  {
   "cell_type": "markdown",
   "metadata": {},
   "source": [
    "Parameters for states of matter:\n",
    "\n",
    "Gas: $\\rho=0.3$, $T=3$\n",
    "\n",
    "Liquid: $\\rho=0.8$, $T=1$\n",
    "\n",
    "Solid: $\\rho=1.2$, $T=0.5$"
   ]
  },
  {
   "cell_type": "code",
   "execution_count": 3,
   "metadata": {},
   "outputs": [],
   "source": [
    "# The force at x is the negative gradient of the potential at x\n",
    "# The gradient of the potential is the derivative of the potential WRT r times x/r\n",
    "# where r is the magnitude of the distance and x is a vector\n",
    "\n",
    "# Initial conditions\n",
    "T = 3\n",
    "rho = 0.3\n",
    "h = 0.05                                   # time step\n",
    "num_time = 40                              # number of time steps\n",
    "num_unit_cells_per_dim = 3                 # number of particles in each direction\n",
    "num_unit_cells = num_unit_cells_per_dim**3 # total number of particles\n",
    "num_part = 4 * num_unit_cells\n",
    "L = np.power(num_part / rho, 1/3.0)        # size of unit cell"
   ]
  },
  {
   "cell_type": "markdown",
   "metadata": {},
   "source": [
    "Rachel: I'd like to go over the cell above here. There are only 2 initial coordinates? What is the difference between \"num_part_per_dim\" and \"num_part\"? If there are four particles, what are the coordinates?"
   ]
  },
  {
   "cell_type": "code",
   "execution_count": 4,
   "metadata": {},
   "outputs": [],
   "source": [
    "# state consists of 6 degrees of freedom: 3 position coordinates, 3 velocities\n",
    "state = np.zeros((num_part, num_time, 6))\n",
    "\n",
    "# store the kinetic and potential energy of 2 particles in 3 dimensions for num_time timesteps\n",
    "E_kin = np.zeros((num_part, num_time))\n",
    "E_pot = np.zeros((num_part, num_time))\n",
    "E_tot = np.zeros((num_part, num_time))\n",
    "\n",
    "# calculate the initial coordinates by placing all particles on a fcc lattice\n",
    "# the initial velocities of the particles are given by a gaussian ditribution\n",
    "unit_cell = 0\n",
    "mu = 1\n",
    "sigma = np.sqrt(T)\n",
    "rescaling_time = 20\n",
    "\n",
    "# create distribution of e^(-mv^2 / 2k_B * T), where k_B = 1 and m = 1\n",
    "velocity_distribution = np.random.normal(mu, sigma, num_part)\n",
    "\n",
    "for x in range(num_unit_cells_per_dim):\n",
    "    for y in range(num_unit_cells_per_dim):\n",
    "        for z in range(num_unit_cells_per_dim):\n",
    "            cell_offset = np.asarray([x, y, z]) * L\n",
    "            state[unit_cell + 0, 0, :3] = np.asarray([0.0, 0.0, 0.0]) + cell_offset\n",
    "            state[unit_cell + 1, 0, :3] = np.asarray([L / 2.0, L / 2.0, 0.0]) + cell_offset\n",
    "            state[unit_cell + 2, 0, :3] = np.asarray([L / 2.0, 0.0, L / 2.0]) + cell_offset\n",
    "            state[unit_cell + 3, 0, :3] = np.asarray([L / 2.0, L / 2.0, L / 2.0]) + cell_offset\n",
    "\n",
    "            state[unit_cell + 0, 0, 3:] = velocity_distribution[unit_cell + 0] * func.create_random_vector()\n",
    "            state[unit_cell + 1, 0, 3:] = velocity_distribution[unit_cell + 1] * func.create_random_vector()\n",
    "\n",
    "            unit_cell += 4\n",
    "\n",
    "# store initial kinetic, potential and total energy of each particle and the system\n",
    "for i in range(num_part):\n",
    "    E_kin[i, 0] = func.norm(func.KE(state[i, 0, 3:]))\n",
    "    E_pot[i, 0] = 0\n",
    "    E_tot[i, 0] += E_pot[i, 0] + E_kin[i, 0]\n",
    "    \n",
    "# Save distances between reference particle and others for pair correlation function\n",
    "distances = np.zeros((num_time, num_part-1))\n",
    "# Initial distances\n",
    "for i in range(1, num_part):\n",
    "    distances[0, i-1] = func.dist(state[0,0,:3], state[i,0,:3])"
   ]
  },
  {
   "cell_type": "markdown",
   "metadata": {},
   "source": [
    "Rachel: I don't understand np.tile and np.repeat. I think there might be some confusion between initial_coords, num_part, and num_part_per_dim. "
   ]
  },
  {
   "cell_type": "code",
   "execution_count": 5,
   "metadata": {},
   "outputs": [
    {
     "name": "stderr",
     "output_type": "stream",
     "text": [
      "/home/daniel/study/comp_physics/Project1/Functions.py:89: RuntimeWarning: overflow encountered in square\n",
      "  return 0.5 * v**2.\n",
      "/home/daniel/study/comp_physics/Project1/Functions.py:11: RuntimeWarning: overflow encountered in square\n",
      "  return np.sqrt(np.sum(r**2., axis))\n",
      "/home/daniel/study/comp_physics/Project1/Functions.py:54: RuntimeWarning: overflow encountered in double_scalars\n",
      "  return -48./(r**13.) + 24./(r**7.)\n",
      "/home/daniel/study/comp_physics/Project1/Functions.py:96: RuntimeWarning: overflow encountered in double_scalars\n",
      "  return 4.*(1./(r**12.) - 1./(r**6))\n",
      "/home/daniel/study/comp_physics/Project1/Functions.py:54: RuntimeWarning: divide by zero encountered in double_scalars\n",
      "  return -48./(r**13.) + 24./(r**7.)\n",
      "/home/daniel/study/comp_physics/Project1/Functions.py:54: RuntimeWarning: invalid value encountered in double_scalars\n",
      "  return -48./(r**13.) + 24./(r**7.)\n",
      "/home/daniel/study/comp_physics/Project1/Functions.py:96: RuntimeWarning: divide by zero encountered in double_scalars\n",
      "  return 4.*(1./(r**12.) - 1./(r**6))\n",
      "/home/daniel/study/comp_physics/Project1/Functions.py:96: RuntimeWarning: invalid value encountered in double_scalars\n",
      "  return 4.*(1./(r**12.) - 1./(r**6))\n"
     ]
    }
   ],
   "source": [
    "# Change in position and velocity\n",
    "for t in range(1, num_time):    \n",
    "    for i in range(1, num_part):        \n",
    "        if t == rescaling_time:\n",
    "            func.rescale_velocities(state, t-1, num_part, T)\n",
    "        \n",
    "        # the distance and force between the two closest particles at t-1\n",
    "        r = func.get_r(state, t-1, i, L)\n",
    "        F = func.acceleration(r)\n",
    "\n",
    "        # positions at time t\n",
    "        state[i, t, :3] = func.next_position(state[i, t-1, :3], state[i, t-1, 3:], F, h, L)\n",
    "\n",
    "        # r, force and velocity at time t\n",
    "        r_next = func.get_r(state, t, i, L)\n",
    "        F_next = func.acceleration(r_next)\n",
    "        v_next = func.next_velocity(state[i, t-1, 3:], F, F_next, h)\n",
    "        state[i, t, 3:] = v_next\n",
    "\n",
    "        # calculate the energy of the particle\n",
    "        E_kin[i, t] = func.norm(func.KE(v_next))\n",
    "        E_pot[i, t] = func.LJP(func.norm(r_next))\n",
    "        E_tot[i, t] += E_pot[i, t] + E_kin[i, t]"
   ]
  },
  {
   "cell_type": "markdown",
   "metadata": {},
   "source": [
    "For pair correlation function: Count the number of particles at a given distance within a bin size (have the bin size variable). Take the average of this count over all time steps. This will be \"_n(r)_\""
   ]
  },
  {
   "cell_type": "code",
   "execution_count": 6,
   "metadata": {},
   "outputs": [
    {
     "data": {
      "text/plain": [
       "array([0, 0, 0, 0, 0, 0, 0, 0, 0, 0, 0, 0, 0, 0, 0, 0, 0, 0, 0, 0, 0, 0,\n",
       "       0, 0, 0, 0, 0, 0, 0, 0, 0, 0, 0, 0, 0, 0, 0, 0, 0, 0, 0, 0, 0, 0,\n",
       "       0, 0, 0, 0, 0, 0, 0, 0, 0, 0, 0, 0, 0, 0, 0, 0, 0, 0, 0, 0, 0, 0,\n",
       "       0, 0, 0, 0, 2, 0, 0, 0, 0, 0, 0, 0, 0, 0, 0, 0, 0, 0, 0, 0, 1, 0,\n",
       "       0, 0, 0, 0, 0, 0, 0, 0, 0, 0, 0, 3])"
      ]
     },
     "execution_count": 6,
     "metadata": {},
     "output_type": "execute_result"
    }
   ],
   "source": [
    "binsize = 0.005\n",
    "binnum = L/binsize\n",
    "binnum = int(binnum)\n",
    "np.histogram(distances[0], bins=100, range=(0, L))[0]"
   ]
  },
  {
   "cell_type": "markdown",
   "metadata": {},
   "source": [
    "man this is a mess"
   ]
  },
  {
   "cell_type": "markdown",
   "metadata": {},
   "source": [
    "https://en.wikipedia.org/wiki/Radial_distribution_function\n",
    "https://docs.scipy.org/doc/numpy/reference/generated/numpy.histogram.html\n",
    "https://gitlab.kwant-project.org/computational_physics_19/course_notes/blob/master/project%201/project.md"
   ]
  },
  {
   "cell_type": "code",
   "execution_count": 7,
   "metadata": {},
   "outputs": [
    {
     "data": {
      "image/png": "[encoded data removed]",
      "text/plain": [
       "<Figure size 432x288 with 1 Axes>"
      ]
     },
     "metadata": {},
     "output_type": "display_data"
    },
    {
     "data": {
      "image/png": "[encoded data removed]",
      "text/plain": [
       "<Figure size 432x288 with 1 Axes>"
      ]
     },
     "metadata": {},
     "output_type": "display_data"
    },
    {
     "data": {
      "image/png": "[encoded data removed]",
      "text/plain": [
       "<Figure size 432x288 with 1 Axes>"
      ]
     },
     "metadata": {},
     "output_type": "display_data"
    }
   ],
   "source": [
    "# plot the potential, kinetic and total energy\n",
    "plt.title('Potential energy as function of time')\n",
    "plt.plot(range(num_time), np.sum(E_kin[:, :], axis=0), linestyle='-', marker='o', label='kinetic energy')\n",
    "plt.plot(range(num_time), np.sum(E_pot[:, :], axis=0), linestyle='-', marker='o', label='potential energy')    \n",
    "plt.plot(range(num_time), np.sum(E_tot[:, :], axis=0), linestyle='--', marker='o', label='total energy')\n",
    "plt.xlabel('Timestep')\n",
    "plt.ylabel('Energy')\n",
    "plt.grid()\n",
    "plt.legend()\n",
    "plt.figure()\n",
    "\n",
    "# plot the velocity in x-direction\n",
    "plt.title('Velocity in x-direction as function of time')\n",
    "plt.plot(range(num_time), state[1, :, 3], linestyle='-', marker='o', label='velocity')\n",
    "plt.xlabel('Timestep')\n",
    "plt.ylabel('Velocity')\n",
    "plt.grid()\n",
    "\n",
    "# plot the positions of all particles in a new figure and plot the initial positions in green\n",
    "plt.figure()\n",
    "plt.title('Positions of the particles')\n",
    "for x in range(num_part):\n",
    "    plt.scatter(state[x, 1:, 0], state[x, 1:, 1], label='particle {}'.format(x))\n",
    "    plt.scatter(state[x, 0, 0], state[x, 0, 1], c='g')\n",
    "\n",
    "# restrict the view around the box + a small margin\n",
    "view_margin = L / 10.0\n",
    "plt.xlim(-view_margin, L * num_unit_cells_per_dim + view_margin)\n",
    "plt.ylim(-view_margin, L * num_unit_cells_per_dim + view_margin)\n",
    "plt.xlabel('X')\n",
    "plt.ylabel('Y')\n",
    "plt.grid()\n",
    "\n",
    "# add border lines around the box\n",
    "for x in range(num_unit_cells_per_dim + 1):\n",
    "    for y in range(num_unit_cells_per_dim + 1):\n",
    "        plt.axvline(x * L)\n",
    "        plt.axhline(y * L)\n",
    "\n",
    "plt.show()"
   ]
  },
  {
   "cell_type": "markdown",
   "metadata": {},
   "source": [
    "The simulation works (I think), because:\n",
    "- The 3 particles move towards the particle in the center in the beginning\n",
    "- At a certain point, the repulsive term dominates the attractive term, which causes the three particles to move away from the center again. This term is stonger and therefore has more effect on the velocities. At this point the sign of the velocity changes and there is a stronger potential energy. This causes the particles to oscillate around an equilibrium.\n",
    "- The potential energy is always negative\n",
    "- The total energy is conserved throughout time, but not during each oscillation. I don't know whether that should be the case."
   ]
  },
  {
   "cell_type": "code",
   "execution_count": null,
   "metadata": {},
   "outputs": [],
   "source": []
  },
  {
   "cell_type": "code",
   "execution_count": null,
   "metadata": {},
   "outputs": [],
   "source": []
  }
 ],
 "metadata": {
  "kernelspec": {
   "display_name": "Python 3",
   "language": "python",
   "name": "python3"
  },
  "language_info": {
   "codemirror_mode": {
    "name": "ipython",
    "version": 3
   },
   "file_extension": ".py",
   "mimetype": "text/x-python",
   "name": "python",
   "nbconvert_exporter": "python",
   "pygments_lexer": "ipython3",
   "version": "3.6.7"
  }
 },
 "nbformat": 4,
 "nbformat_minor": 2
}
