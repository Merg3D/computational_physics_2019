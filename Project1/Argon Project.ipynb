{
 "cells": [
  {
   "cell_type": "code",
   "execution_count": 1,
   "metadata": {},
   "outputs": [],
   "source": [
    "# Simulating dynamics of Argon atoms\n",
    "# Starting with outlining general kinematics of particles"
   ]
  },
  {
   "cell_type": "markdown",
   "metadata": {},
   "source": [
    "Week 1:\n",
    "Play around with this system. Start by simulating the time evolution of a few particles in a periodic box, \n",
    "add the forces due to the Lennard-Jones potential. Check how the total energy of your system evolves over time.\n",
    "It's easier to start with a 2D system, but plan to switch to 3D at a later stage.\n",
    "Week 2:\n",
    "Derive the expression of the kinetic energy in dimensionless units\n",
    "Write a molecular dynamics code that uses dimensionless units and simulate a few atoms. \n",
    "Plot both kinetic, potential and total energy.\n",
    "Boundary condition, minimal image convention"
   ]
  },
  {
   "cell_type": "code",
   "execution_count": 2,
   "metadata": {},
   "outputs": [],
   "source": [
    "import numpy as np\n",
    "import matplotlib.pyplot as plt\n",
    "from astropy import constants as const\n",
    "from astropy import units as u"
   ]
  },
  {
   "cell_type": "code",
   "execution_count": 43,
   "metadata": {},
   "outputs": [],
   "source": [
    "def norm(r):\n",
    "    ''' Calculate the magnitude/norm of a vector r'''\n",
    "    return np.sqrt(np.sum(r**2.0))\n",
    "\n",
    "# Acceleration = Force\n",
    "def acceleration(r):\n",
    "    '''Force between partices r apart\n",
    "    r is magnitude (dimensionless)'''\n",
    "    nablaU = dUdr(norm(r)) * r / norm(r)\n",
    "    return -nablaU\n",
    "\n",
    "def apply_boundary_conditions(x):\n",
    "    '''Apply boundary conditions for a box of size L x L x L to position x'''\n",
    "    for d in range(3):\n",
    "        if (x[d] < 0.0):\n",
    "            x[d] = L - x[d]\n",
    "        elif (x[d] > L):\n",
    "            x[d] = x[d] - L\n",
    "    return x\n",
    "\n",
    "# velocity at time t\n",
    "def current_velocity(x_next, x_prev):\n",
    "    '''Current velocity of a particle\n",
    "    next position x_next from function at time t+h\n",
    "    previous position at time t-h'''\n",
    "    v = (x_next - x_prev)/(2.*h)\n",
    "    return v\n",
    "\n",
    "# position at t+h\n",
    "def next_position(x, v, force):\n",
    "    '''The next position value\n",
    "    current position x at time t\n",
    "    current velocity v\n",
    "    force from acceleration, at time t\n",
    "    Dimensionless units'''\n",
    "    x_next = x + (h*v) + ((h**2.0 /2.0)*(force))\n",
    "    return apply_boundary_conditions(x_next)\n",
    "\n",
    "# velocity at time t+h\n",
    "def next_velocity(v, force, force_next):\n",
    "    '''Finding the next velocity value\n",
    "    current velocity time t\n",
    "    current force time t\n",
    "    next force time t+h\n",
    "    Dimensionless units'''\n",
    "    v_next = v + (h/2)*(force + force_next)\n",
    "    return v_next\n",
    "\n",
    "# Potential Energy\n",
    "def LJP(r):\n",
    "    '''Lennard-Jones potential formula\n",
    "    Describes the potential of the system given a distance between two particles\n",
    "    in dimensionless units, no sigma or epsilon\n",
    "    function of magnitude distance r'''\n",
    "    return 4*(1/(r**12.) - 1/(r**6.))\n",
    "\n",
    "# Kinetic Energy\n",
    "def KE(v):\n",
    "    '''Kinetic energy from velocity vector'''\n",
    "    return 0.5 * v**2.0\n",
    "\n",
    "def dUdr(r):\n",
    "    ''' Derivative of LJP WRT r\n",
    "    in dimensionless units, no sigma or epsilon\n",
    "    function of magnitude distance r'''\n",
    "    return -48./(r**13.) + 24/(r**7.)"
   ]
  },
  {
   "cell_type": "code",
   "execution_count": 44,
   "metadata": {},
   "outputs": [],
   "source": [
    "# Parameters given in dimensionless units of sigma\n",
    "#  Perhaps convert between units later\n",
    "# Variables\n",
    "# Argon\n",
    "# epsilon = const.k_B * 119.8*u.K\n",
    "# sigma = 3.405*u.AA\n",
    "# mass = 39.948*u.u"
   ]
  },
  {
   "cell_type": "code",
   "execution_count": 45,
   "metadata": {},
   "outputs": [],
   "source": [
    "# The force at x is the negative gradient of the potential at x\n",
    "# The gradient of the potential is the derivative of the potential WRT r times x/r\n",
    "# where r is the magnitude of the distance and x is a vector\n",
    "\n",
    "# Initial conditions\n",
    "h = 0.05 # time step\n",
    "num_time = 10  # number of time steps\n",
    "num_part = 2\n",
    "L = 10.0       # size of box\n",
    "\n",
    "x_i_init = np.array([1.0, 9.0, 0.0]) # initial position vector of particle i\n",
    "v_i_init = np.zeros(3)               # start from rest\n",
    "\n",
    "x_j_init = np.array([9.0, 1.0, 0.0])\n",
    "v_j_init = np.zeros(3)"
   ]
  },
  {
   "cell_type": "code",
   "execution_count": 46,
   "metadata": {},
   "outputs": [],
   "source": [
    "#Test\n",
    "# next_v = next_velocity(v_init, acc, h)\n",
    "# print(next_v)\n",
    "# next_x = next_position(x_init, v_init, h)\n",
    "# print(next_x)"
   ]
  },
  {
   "cell_type": "code",
   "execution_count": 47,
   "metadata": {},
   "outputs": [
    {
     "name": "stdout",
     "output_type": "stream",
     "text": [
      "[0. 0. 0.]\n",
      "[nan nan nan]\n",
      "[nan nan nan]\n",
      "[nan nan nan]\n",
      "[nan nan nan]\n",
      "[nan nan nan]\n",
      "[nan nan nan]\n",
      "[nan nan nan]\n",
      "[nan nan nan]\n",
      "10\n",
      "9\n",
      "range(0, 10)\n"
     ]
    },
    {
     "name": "stderr",
     "output_type": "stream",
     "text": [
      "/software/local/lib64/python3.7/site-packages/ipykernel_launcher.py:66: RuntimeWarning: divide by zero encountered in double_scalars\n",
      "/software/local/lib64/python3.7/site-packages/ipykernel_launcher.py:66: RuntimeWarning: invalid value encountered in double_scalars\n",
      "/software/local/lib64/python3.7/site-packages/ipykernel_launcher.py:55: RuntimeWarning: divide by zero encountered in double_scalars\n",
      "/software/local/lib64/python3.7/site-packages/ipykernel_launcher.py:55: RuntimeWarning: invalid value encountered in double_scalars\n"
     ]
    }
   ],
   "source": [
    "state = np.zeros((num_part, num_time, 6))  # state consists of 6 degrees of freedom: 3 position coordinates, 3 velocities\n",
    "\n",
    "# store the initial state of the system\n",
    "state[0, 0, :3] = x_i_init\n",
    "state[0, 0, 3:] = v_i_init\n",
    "state[1, 0, :3] = x_j_init\n",
    "state[1, 0, 3:] = v_j_init\n",
    "\n",
    "r_init = state[0, 0, :3] - state[1, 0, :3]\n",
    "r_init_norm = norm(r_init)\n",
    "\n",
    "# store the kinetic and potential energy of 2 particles in 3 dimensions for num_time timesteps\n",
    "E_kin = np.zeros((2, num_time, 3))\n",
    "E_pot = np.zeros((num_time))\n",
    "E_tot = np.zeros((num_time))\n",
    "\n",
    "# store initial kinetic, potential, and total energy of each particle and the system\n",
    "E_kin[0, 0, :] = KE(v_i_init)\n",
    "E_kin[1, 0, :] = KE(v_j_init)\n",
    "E_pot[0] = LJP(r_init_norm)\n",
    "\n",
    "E_tot[0] = E_pot[t] + E_kin[0, 0, 0] + E_kin[1, 0, 0]\n",
    "\n",
    "timesteps = range(1, num_time)\n",
    "\n",
    "# Change in position and velocity\n",
    "for t in timesteps:\n",
    "    \n",
    "    # calculate the distance between the two particles at t-1    \n",
    "    r = state[0, t-1, :3] - state[1, t-1, :3]\n",
    "    r_norm = norm(r)\n",
    "    \n",
    "    # calculate the force between particles at time t-1\n",
    "    F = acceleration(r)\n",
    "    \n",
    "    # positions at time t\n",
    "    x_i_next = next_position(r, state[0, t-1, 3:], F)\n",
    "    x_j_next = next_position(r, state[1, t-1, 3:], F)\n",
    "    state[0, t, :3] = x_i_next\n",
    "    state[1, t, :3] = x_j_next\n",
    "    \n",
    "    # r and rorce at time t\n",
    "    r_next = state[0, t, :3] - state[1, t, :3]\n",
    "    print(r_next)\n",
    "    r_norm_next = norm(r_next)\n",
    "    F_next = acceleration(r_next)\n",
    "    \n",
    "    # velocity at time t\n",
    "    v_i_next = next_velocity(state[0, t-1, 3:], F, F_next)\n",
    "    v_j_next = next_velocity(state[1, t-1, 3:], F, F_next)\n",
    "    state[0, t, 3:] = v_i_next\n",
    "    state[1, t, 3:] = v_j_next\n",
    "    \n",
    "    # calculate the kinetic energy of the particles\n",
    "    E_kin[0, t, :] = KE(v_i_next)\n",
    "    E_kin[1, t, :] = KE(v_j_next)\n",
    "    \n",
    "    # calculate the potential energy\n",
    "    E_pot[t] = LJP(r_norm_next)\n",
    "    \n",
    "    # the total energy is the sum of the kinetic energy of both particles and the potential energy\n",
    "    E_tot[t] = E_pot[t] + norm(E_kin[0, t, :]) + E_kin[1, t, 0]\n",
    "\n",
    "print(len(E_kin[1]))\n",
    "print(len(timesteps))\n",
    "print(range(num_time))"
   ]
  },
  {
   "cell_type": "code",
   "execution_count": 39,
   "metadata": {},
   "outputs": [
    {
     "data": {
      "image/png": "[encoded data removed]",
      "text/plain": [
       "<Figure size 432x288 with 1 Axes>"
      ]
     },
     "metadata": {
      "needs_background": "light"
     },
     "output_type": "display_data"
    },
    {
     "data": {
      "image/png": "[encoded data removed]",
      "text/plain": [
       "<Figure size 432x288 with 1 Axes>"
      ]
     },
     "metadata": {
      "needs_background": "light"
     },
     "output_type": "display_data"
    }
   ],
   "source": [
    "# plot the potential, kinetic and total energy\n",
    "plt.title('Energies as a function of time')\n",
    "plt.plot(range(num_time), E_kin[0, :, 0], linestyle='-', marker='o', c='r', label='kinetic energy of particle 1')\n",
    "plt.plot(range(num_time), E_kin[1, :, 0], linestyle='-', marker='o', c='g', label='kinetic energy of particle 2')\n",
    "plt.plot(range(num_time), E_pot[:], linestyle='-', marker='o', c='b', label='potential energy')\n",
    "plt.plot(range(num_time), E_tot[:], linestyle='--', marker='o', c='y', label='total energy')\n",
    "plt.xlabel('Timestep')\n",
    "plt.ylabel('Energy')\n",
    "plt.grid()\n",
    "plt.legend()\n",
    "\n",
    "# plot the positions of both particles in a new figure\n",
    "plt.figure()\n",
    "plt.title('Positions of the particles')\n",
    "plt.scatter(state[0, :, 0], state[0, :, 1], linestyle='-', marker='o', c='r', label='particle i')\n",
    "plt.scatter(state[1, :, 0], state[1, :, 1], linestyle='-', marker='o', c='g', label='particle j')\n",
    "\n",
    "# restrict the view around the box + a small margin\n",
    "view_margin = 0.5\n",
    "plt.xlim(-view_margin, L + view_margin)\n",
    "plt.ylim(-view_margin, L + view_margin)\n",
    "plt.xlabel('X')\n",
    "plt.ylabel('Y')\n",
    "plt.grid()\n",
    "plt.legend()\n",
    "\n",
    "# add border lines around the box\n",
    "plt.axvline(0)\n",
    "plt.axvline(L)\n",
    "plt.axhline(0)\n",
    "plt.axhline(L)\n",
    "\n",
    "plt.show()"
   ]
  },
  {
   "cell_type": "code",
   "execution_count": null,
   "metadata": {},
   "outputs": [],
   "source": []
  }
 ],
 "metadata": {
  "kernelspec": {
   "display_name": "Python 3",
   "language": "python",
   "name": "python3"
  },
  "language_info": {
   "codemirror_mode": {
    "name": "ipython",
    "version": 3
   },
   "file_extension": ".py",
   "mimetype": "text/x-python",
   "name": "python",
   "nbconvert_exporter": "python",
   "pygments_lexer": "ipython3",
   "version": "3.7.2"
  }
 },
 "nbformat": 4,
 "nbformat_minor": 2
}
