{
 "cells": [
  {
   "cell_type": "markdown",
   "metadata": {
    "collapsed": true
   },
   "source": [
    "# Ising model"
   ]
  },
  {
   "cell_type": "code",
   "execution_count": 1,
   "metadata": {},
   "outputs": [],
   "source": [
    "import numpy as np\n",
    "import matplotlib.pyplot as plt\n",
    "from numpy.random import randint, choice, random\n",
    "from IPython.display import clear_output, display\n",
    "%matplotlib inline"
   ]
  },
  {
   "cell_type": "code",
   "execution_count": 84,
   "metadata": {},
   "outputs": [],
   "source": [
    "# Calculate the energy for a spin by summing over the neighbour spins\n",
    "# grid: grid of spins\n",
    "# x, y: coordinates\n",
    "# N:    number of spins in each dimension\n",
    "# J:    Ising model constant\n",
    "def calculate_energy(grid, x, y, N, J):\n",
    "    return -J * grid[x, y] * (grid[x, (y+1)%N] +\n",
    "                              grid[x, (y-1)%N] +\n",
    "                              grid[(x+1)%N, y] +\n",
    "                              grid[(x-1)%N, y])\n",
    "\n",
    "# Calculate the total energy of the system\n",
    "# grid: grid of spins\n",
    "# J:    Ising model constant\n",
    "def calculate_total_energy(grid, J):\n",
    "    N = grid.shape[0]\n",
    "    E = np.zeros((N, N))\n",
    "    for x in range(N):\n",
    "        for y in range(N):\n",
    "            E[x, y] = calculate_energy(grid, x, y, N, J)\n",
    "\n",
    "    return E\n",
    "    \n",
    "# Simulate the Ising Model using the Monte Carlo method\n",
    "# T:    temperature of the system\n",
    "# eq_T: equilibrium time of the system\n",
    "# n_T:  number of \"time\" steps\n",
    "# N:    number of spins in each dimension\n",
    "def simulate(T, eq_T, n_T, N=16, J=1.0):\n",
    "    grid = choice([-1.0, 1.0], (N, N))\n",
    "    magnetization, energy = np.zeros((n_T-eq_T, N, N)), np.zeros((n_T-eq_T, N, N))\n",
    "\n",
    "    for t in range(n_T):\n",
    "        x = randint(0, N)\n",
    "        y = randint(0, N)\n",
    "        E = calculate_energy(grid, x, y, N, J)\n",
    "\n",
    "        if E > 0 or random() < np.exp(2.0 * E / T):\n",
    "            grid[x, y] = grid[x, y] * -1\n",
    "        \n",
    "        if t >= eq_T:\n",
    "            magnetization[t-eq_T, :, :] = grid\n",
    "            energy[t-eq_T, :, :] = calculate_total_energy(grid, J)\n",
    "            \n",
    "    return magnetization, energy"
   ]
  },
  {
   "cell_type": "code",
   "execution_count": null,
   "metadata": {},
   "outputs": [
    {
     "name": "stdout",
     "output_type": "stream",
     "text": [
      "7 of 7\n"
     ]
    }
   ],
   "source": [
    "temps = np.arange(1.6, 5.0, 0.5)\n",
    "results = np.zeros((len(temps), 4, 2))\n",
    "n_T = 10**5\n",
    "equilibrium_time = int(n_T * 2 / 3)\n",
    "N = 100\n",
    "\n",
    "for i, T in enumerate(temps):\n",
    "    clear_output(wait=True)\n",
    "    print(\"{} of {}\".format(i+1, len(temps)))\n",
    "    \n",
    "    simulation = simulate(T, equilibrium_time, n_T)    \n",
    "    magnetizations = np.average(np.average(simulation[0], axis=1), axis=1)\n",
    "    energies = np.average(np.average(simulation[1], axis=1), axis=1)\n",
    "    results[i, 0, 0] = np.abs(np.average(magnetizations))\n",
    "    results[i, 0, 1] = np.std(magnetizations)\n",
    "    results[i, 1, 0] = np.average(energies)\n",
    "    results[i, 1, 1] = np.std(energies)\n",
    "    \n",
    "    data = energies\n",
    "    \n",
    "    # resample the data of the energy to calculate the specific heat for each timestep\n",
    "    for n in range(N):\n",
    "        random_indices = np.random.sample(len(data)) * len(data)\n",
    "        E = data[random_indices.astype(int)]\n",
    "        results[i, 2, 0] = np.average((np.average(E**2.0) - np.average(E)**2.0) / T**2.0)\n",
    "        results[i, 2, 1] = np.std((np.average(E**2.0) - np.average(E)**2.0) / T**2.0)\n",
    "        \n",
    "    data = magnetizations\n",
    "    \n",
    "    # resample the data of the magnetizations to calculate the susceptibility for each timestep\n",
    "    for n in range(N):\n",
    "        random_indices = np.random.sample(len(data)) * len(data)\n",
    "        M = data[random_indices.astype(int)]\n",
    "        results[i, 3, 0] = np.average((np.average(M**2.0) - np.average(M)**2.0) / T)\n",
    "        results[i, 3, 1] = np.std((np.average(M**2.0) - np.average(M)**2.0) / T)"
   ]
  },
  {
   "cell_type": "code",
   "execution_count": null,
   "metadata": {},
   "outputs": [],
   "source": [
    "plt.title('Magnetization as a function of temperature')\n",
    "plt.errorbar(temps, results[:, 0, 0], yerr=results[:, 0, 1], marker='o', capsize=2.5, color='b', ecolor='b')\n",
    "plt.xlabel('Temperature')\n",
    "plt.ylabel('Magnetization')\n",
    "plt.grid()\n",
    "\n",
    "plt.figure()\n",
    "plt.title('Energy as a function of temperature')\n",
    "plt.errorbar(temps, results[:, 1, 0], yerr=results[:, 1, 1], marker='o', capsize=2.5, color='b', ecolor='b')\n",
    "plt.xlabel('Temperature')\n",
    "plt.ylabel('Energy')\n",
    "plt.grid()\n",
    "\n",
    "plt.figure()\n",
    "plt.title('Specific heat as a function of temperature')\n",
    "plt.errorbar(temps, results[:, 2, 0], yerr=results[:, 2, 1], marker='o', capsize=2.5, color='b', ecolor='b')\n",
    "plt.xlabel('Temperature')\n",
    "plt.ylabel('Specific heat')\n",
    "plt.grid()\n",
    "\n",
    "plt.figure()\n",
    "plt.title('Susceptibility as a function of temperature')\n",
    "plt.errorbar(temps, results[:, 3, 0], yerr=results[:, 3, 1], marker='o', capsize=2.5, color='b', ecolor='b')\n",
    "plt.xlabel('Temperature')\n",
    "plt.ylabel('Susceptibility $\\chi$')\n",
    "plt.grid()\n",
    "\n",
    "plt.show()"
   ]
  },
  {
   "cell_type": "code",
   "execution_count": 85,
   "metadata": {},
   "outputs": [
    {
     "name": "stdout",
     "output_type": "stream",
     "text": [
      "(128, 128)\n"
     ]
    },
    {
     "data": {
      "text/plain": [
       "<matplotlib.colorbar.Colorbar at 0x7f1b517f66a0>"
      ]
     },
     "execution_count": 85,
     "metadata": {},
     "output_type": "execute_result"
    },
    {
     "data": {
      "image/png": "[encoded data removed]",
      "text/plain": [
       "<Figure size 1296x720 with 2 Axes>"
      ]
     },
     "metadata": {},
     "output_type": "display_data"
    }
   ],
   "source": [
    "grid = simulate(1.5, 10**6-1, 10**6, N=128)[0][-1, :, :]\n",
    "print(grid.shape)\n",
    "plt.figure(figsize=(18, 10))\n",
    "plt.imshow(grid, cmap='Greys_r')\n",
    "plt.colorbar()"
   ]
  }
 ],
 "metadata": {
  "kernelspec": {
   "display_name": "Python 3",
   "language": "python",
   "name": "python3"
  },
  "language_info": {
   "codemirror_mode": {
    "name": "ipython",
    "version": 3
   },
   "file_extension": ".py",
   "mimetype": "text/x-python",
   "name": "python",
   "nbconvert_exporter": "python",
   "pygments_lexer": "ipython3",
   "version": "3.6.7"
  }
 },
 "nbformat": 4,
 "nbformat_minor": 2
}
